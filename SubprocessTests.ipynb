{
 "cells": [
  {
   "cell_type": "code",
   "execution_count": 1,
   "metadata": {},
   "outputs": [],
   "source": [
    "import subprocess\n",
    "import glob\n",
    "import os "
   ]
  },
  {
   "cell_type": "code",
   "execution_count": 5,
   "metadata": {},
   "outputs": [
    {
     "ename": "CalledProcessError",
     "evalue": "Command '['ls', '*PH*.fits > photons.txt']' returned non-zero exit status 2",
     "output_type": "error",
     "traceback": [
      "\u001b[0;31m---------------------------------------------------------------------------\u001b[0m",
      "\u001b[0;31mCalledProcessError\u001b[0m                        Traceback (most recent call last)",
      "\u001b[0;32m<ipython-input-5-102a6f29f315>\u001b[0m in \u001b[0;36m<module>\u001b[0;34m()\u001b[0m\n\u001b[1;32m      2\u001b[0m \u001b[0;34m\u001b[0m\u001b[0m\n\u001b[1;32m      3\u001b[0m \u001b[0msubprocess\u001b[0m\u001b[0;34m.\u001b[0m\u001b[0mcheck_call\u001b[0m\u001b[0;34m(\u001b[0m\u001b[0;34m[\u001b[0m\u001b[0;34m'wget'\u001b[0m\u001b[0;34m,\u001b[0m \u001b[0;34m'https://fermi.gsfc.nasa.gov/FTP/fermi/data/lat/queries/L200710132111F357373F35_SC00.fits'\u001b[0m\u001b[0;34m]\u001b[0m\u001b[0;34m)\u001b[0m\u001b[0;34m\u001b[0m\u001b[0m\n\u001b[0;32m----> 4\u001b[0;31m \u001b[0msubprocess\u001b[0m\u001b[0;34m.\u001b[0m\u001b[0mcheck_call\u001b[0m\u001b[0;34m(\u001b[0m\u001b[0;34m[\u001b[0m\u001b[0;34m'ls'\u001b[0m\u001b[0;34m,\u001b[0m \u001b[0;34m'*PH*.fits > photons.txt'\u001b[0m\u001b[0;34m]\u001b[0m\u001b[0;34m)\u001b[0m\u001b[0;34m\u001b[0m\u001b[0m\n\u001b[0m",
      "\u001b[0;32m/nobackup/b7009348/anaconda2/envs/fermi/lib/python2.7/subprocess.pyc\u001b[0m in \u001b[0;36mcheck_call\u001b[0;34m(*popenargs, **kwargs)\u001b[0m\n\u001b[1;32m    184\u001b[0m         \u001b[0;32mif\u001b[0m \u001b[0mcmd\u001b[0m \u001b[0;32mis\u001b[0m \u001b[0mNone\u001b[0m\u001b[0;34m:\u001b[0m\u001b[0;34m\u001b[0m\u001b[0m\n\u001b[1;32m    185\u001b[0m             \u001b[0mcmd\u001b[0m \u001b[0;34m=\u001b[0m \u001b[0mpopenargs\u001b[0m\u001b[0;34m[\u001b[0m\u001b[0;36m0\u001b[0m\u001b[0;34m]\u001b[0m\u001b[0;34m\u001b[0m\u001b[0m\n\u001b[0;32m--> 186\u001b[0;31m         \u001b[0;32mraise\u001b[0m \u001b[0mCalledProcessError\u001b[0m\u001b[0;34m(\u001b[0m\u001b[0mretcode\u001b[0m\u001b[0;34m,\u001b[0m \u001b[0mcmd\u001b[0m\u001b[0;34m)\u001b[0m\u001b[0;34m\u001b[0m\u001b[0m\n\u001b[0m\u001b[1;32m    187\u001b[0m     \u001b[0;32mreturn\u001b[0m \u001b[0;36m0\u001b[0m\u001b[0;34m\u001b[0m\u001b[0m\n\u001b[1;32m    188\u001b[0m \u001b[0;34m\u001b[0m\u001b[0m\n",
      "\u001b[0;31mCalledProcessError\u001b[0m: Command '['ls', '*PH*.fits > photons.txt']' returned non-zero exit status 2"
     ]
    }
   ],
   "source": [
    "os.chdir('/home/b7009348/projects/fermi-data')\n",
    "\n",
    "subprocess.check_call(['wget', 'https://fermi.gsfc.nasa.gov/FTP/fermi/data/lat/queries/L200710132111F357373F35_SC00.fits'])\n"
   ]
  },
  {
   "cell_type": "code",
   "execution_count": 14,
   "metadata": {},
   "outputs": [
    {
     "ename": "CalledProcessError",
     "evalue": "Command '['wget', '-m-P', '.', '-nH', '--cut-dirs=4', '-np', '-e', 'robots=off', '/home/b7009348/projects/fermi-data/Weekly_Photons', 'https://heasarc.gsfc.nasa.gov/FTP/fermi/data/lat/weekly/photon/']' returned non-zero exit status 2",
     "output_type": "error",
     "traceback": [
      "\u001b[0;31m---------------------------------------------------------------------------\u001b[0m",
      "\u001b[0;31mCalledProcessError\u001b[0m                        Traceback (most recent call last)",
      "\u001b[0;32m<ipython-input-14-b8f3471efacf>\u001b[0m in \u001b[0;36m<module>\u001b[0;34m()\u001b[0m\n\u001b[1;32m      1\u001b[0m subprocess.check_call(['wget', '-m' '-P', '.', '-nH', '--cut-dirs=4', '-np', '-e', 'robots=off', '/home/b7009348/projects/fermi-data/Weekly_Photons', \n\u001b[0;32m----> 2\u001b[0;31m                        'https://heasarc.gsfc.nasa.gov/FTP/fermi/data/lat/weekly/photon/'])\n\u001b[0m\u001b[1;32m      3\u001b[0m subprocess.check_call(['wget', '-m', '-P', '.', '-nH', '--cut-dirs=4', '-np', '-e', 'robots=off', '--tries=20', '/home/b7009348/projects/fermi-data/Weekly_Spacecraft', \n\u001b[1;32m      4\u001b[0m                        'https://heasarc.gsfc.nasa.gov/FTP/fermi/data/lat/weekly/spacecraft/'])\n",
      "\u001b[0;32m/nobackup/b7009348/anaconda2/envs/fermi/lib/python2.7/subprocess.pyc\u001b[0m in \u001b[0;36mcheck_call\u001b[0;34m(*popenargs, **kwargs)\u001b[0m\n\u001b[1;32m    184\u001b[0m         \u001b[0;32mif\u001b[0m \u001b[0mcmd\u001b[0m \u001b[0;32mis\u001b[0m \u001b[0mNone\u001b[0m\u001b[0;34m:\u001b[0m\u001b[0;34m\u001b[0m\u001b[0m\n\u001b[1;32m    185\u001b[0m             \u001b[0mcmd\u001b[0m \u001b[0;34m=\u001b[0m \u001b[0mpopenargs\u001b[0m\u001b[0;34m[\u001b[0m\u001b[0;36m0\u001b[0m\u001b[0;34m]\u001b[0m\u001b[0;34m\u001b[0m\u001b[0m\n\u001b[0;32m--> 186\u001b[0;31m         \u001b[0;32mraise\u001b[0m \u001b[0mCalledProcessError\u001b[0m\u001b[0;34m(\u001b[0m\u001b[0mretcode\u001b[0m\u001b[0;34m,\u001b[0m \u001b[0mcmd\u001b[0m\u001b[0;34m)\u001b[0m\u001b[0;34m\u001b[0m\u001b[0m\n\u001b[0m\u001b[1;32m    187\u001b[0m     \u001b[0;32mreturn\u001b[0m \u001b[0;36m0\u001b[0m\u001b[0;34m\u001b[0m\u001b[0m\n\u001b[1;32m    188\u001b[0m \u001b[0;34m\u001b[0m\u001b[0m\n",
      "\u001b[0;31mCalledProcessError\u001b[0m: Command '['wget', '-m-P', '.', '-nH', '--cut-dirs=4', '-np', '-e', 'robots=off', '/home/b7009348/projects/fermi-data/Weekly_Photons', 'https://heasarc.gsfc.nasa.gov/FTP/fermi/data/lat/weekly/photon/']' returned non-zero exit status 2"
     ]
    }
   ],
   "source": [
    "subprocess.check_call(['wget', '-m' '-P', '.', '-nH', '--cut-dirs=4', '-np', '-e', 'robots=off', '/home/b7009348/projects/fermi-data/Weekly_Photons', \n",
    "                       'https://heasarc.gsfc.nasa.gov/FTP/fermi/data/lat/weekly/photon/'])\n",
    "subprocess.check_call(['wget', '-m', '-P', '.', '-nH', '--cut-dirs=4', '-np', '-e', 'robots=off', '--tries=20', '/home/b7009348/projects/fermi-data/Weekly_Spacecraft', \n",
    "                       'https://heasarc.gsfc.nasa.gov/FTP/fermi/data/lat/weekly/spacecraft/'])\n"
   ]
  }
 ],
 "metadata": {
  "kernelspec": {
   "display_name": "Python 2",
   "language": "python",
   "name": "python2"
  },
  "language_info": {
   "codemirror_mode": {
    "name": "ipython",
    "version": 2
   },
   "file_extension": ".py",
   "mimetype": "text/x-python",
   "name": "python",
   "nbconvert_exporter": "python",
   "pygments_lexer": "ipython2",
   "version": "2.7.14"
  }
 },
 "nbformat": 4,
 "nbformat_minor": 2
}
