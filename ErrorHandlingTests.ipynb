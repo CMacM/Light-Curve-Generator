{
 "cells": [
  {
   "cell_type": "code",
   "execution_count": null,
   "metadata": {},
   "outputs": [],
   "source": [
    "%load_ext autoreload\n",
    "%autoreload 2"
   ]
  },
  {
   "cell_type": "code",
   "execution_count": null,
   "metadata": {},
   "outputs": [],
   "source": [
    "import gt_apps as gt\n",
    "import os\n",
    "import sys\n",
    "import re\n",
    "import mkLightCurve\n",
    "import glob\n",
    "from make4FGLxml import *"
   ]
  },
  {
   "cell_type": "markdown",
   "metadata": {},
   "source": [
    "Start = 576557417\n",
    "End = 600557417"
   ]
  },
  {
   "cell_type": "code",
   "execution_count": null,
   "metadata": {},
   "outputs": [],
   "source": [
    "os.chdir(\"/home/b7009348/projects/fermi-data/XSS_Testing_Data\")\n",
    "\n",
    "name = 'J12270'\n",
    "templateDir = '/home/b7009348/projects/fermi-data/XSS_Testing_Data'\n",
    "\n",
    "mkLightCurve.generatemodel(name,templateDir)"
   ]
  },
  {
   "cell_type": "code",
   "execution_count": null,
   "metadata": {},
   "outputs": [],
   "source": [
    "os.chdir(\"/home/b7009348/projects/fermi-data/XSS_Testing_Data\")\n",
    "\n",
    "model_name = '4FGL J1228.0-4853'\n",
    "name = 'J12270'            #define parameters specific to source\n",
    "xcoord = 186.995\n",
    "ycoord = -48.8952\n",
    "binsz = 2000000 #size of bins wanted\n",
    "start = 576557417 \n",
    "end = 600557417 \n",
    "diff = end - start #time of fermi mission\n",
    "numbins = diff/binsz #number of bins\n",
    "poolsize = 15\n",
    "\n",
    "i = list(range(1,numbins+1))\n",
    "\n",
    "print numbins\n",
    "\n",
    "mkLightCurve.generateflux(poolsize,name,model_name,xcoord,ycoord,start,binsz,i)"
   ]
  },
  {
   "cell_type": "code",
   "execution_count": null,
   "metadata": {},
   "outputs": [],
   "source": [
    "os.chdir('home/b7009348/projects/fermi-data/XSS_J12270_Data')"
   ]
  }
 ],
 "metadata": {
  "kernelspec": {
   "display_name": "Python 2",
   "language": "python",
   "name": "python2"
  },
  "language_info": {
   "codemirror_mode": {
    "name": "ipython",
    "version": 2
   },
   "file_extension": ".py",
   "mimetype": "text/x-python",
   "name": "python",
   "nbconvert_exporter": "python",
   "pygments_lexer": "ipython2",
   "version": "2.7.14"
  }
 },
 "nbformat": 4,
 "nbformat_minor": 2
}
