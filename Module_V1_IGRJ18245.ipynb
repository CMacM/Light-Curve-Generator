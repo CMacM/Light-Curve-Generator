{
 "cells": [
  {
   "cell_type": "raw",
   "metadata": {},
   "source": [
    "Equatorial coordinates (degrees)\t(276.135,-24.8688)\n",
    "Time range (MET)\t(239557417,607305605)\n",
    "Time range (Gregorian)\t(2008-08-04 15:43:36,2020-03-31 00:00:00)\n",
    "Energy range (MeV)\t(100,500000)\n",
    "Search radius (degrees)\t20"
   ]
  },
  {
   "cell_type": "markdown",
   "metadata": {},
   "source": [
    "NEED TO ADDRESS MULTIPLE SRCMAPS "
   ]
  },
  {
   "cell_type": "code",
   "execution_count": 3,
   "metadata": {},
   "outputs": [],
   "source": [
    "%load_ext autoreload\n",
    "%autoreload 2"
   ]
  },
  {
   "cell_type": "code",
   "execution_count": 1,
   "metadata": {},
   "outputs": [
    {
     "name": "stdout",
     "output_type": "stream",
     "text": [
      "This is make4FGLxml version 01r05.\n",
      "The default diffuse model files and names are for pass 8 and 4FGL and assume you have v11r5p3 of the Fermi Science Tools or higher.\n"
     ]
    }
   ],
   "source": [
    "import os\n",
    "import mkLightCurve"
   ]
  },
  {
   "cell_type": "code",
   "execution_count": null,
   "metadata": {},
   "outputs": [],
   "source": [
    "os.chdir('/home/b7009348/projects/fermi-data/IGR_J18245_Data')\n",
    "!ls *PH*.fits > photons.txt\n",
    "\n",
    "name = 'J18245'\n",
    "templateDir = '/home/b7009348/projects/fermi-data/IGR_J18245_Data'\n",
    "\n",
    "mkLightCurve.generatemodel(name,templateDir)"
   ]
  },
  {
   "cell_type": "code",
   "execution_count": null,
   "metadata": {},
   "outputs": [
    {
     "name": "stdout",
     "output_type": "stream",
     "text": [
      "Bin 272557417 has been calculated\n",
      "Bin 288557417 has been calculated\n",
      "Bin 248557417 has been calculated\n",
      "Bin 296557417 has been calculated\n",
      "Bin 240557417 has been calculated\n",
      "Bin 280557417 has been calculated\n",
      "Bin 264557417 has been calculated\n",
      "Bin 256557417 has been calculated\n",
      "Bin 274557417 has been calculated\n",
      "Bin 290557417 has been calculated\n",
      "Bin 298557417 has been calculated\n",
      "Bin 250557417 has been calculated\n",
      "Bin 276557417 has been calculated\n",
      "Bin 242557417 has been calculated\n",
      "Bin 282557417 has been calculated\n",
      "Bin 292557417 has been calculated\n",
      "Bin 266557417 has been calculated\n",
      "Bin 300557417 has been calculated\n",
      "Bin 252557417 has been calculated\n",
      "Bin 244557417 has been calculated\n",
      "Bin 278557417 has been calculated\n",
      "Bin 268557417 has been calculated\n",
      "Bin 294557417 has been calculated\n",
      "Bin 284557417 has been calculated\n",
      "Bin 254557417 has been calculated\n",
      "Bin 360557417 has been calculated\n",
      "Bin 368557417 has been calculated\n",
      "Bin 286557417 has been calculated\n",
      "Bin 270557417 has been calculated\n",
      "Bin 370557417 has been calculated\n",
      "Bin 384557417 has been calculated\n",
      "Bin 392557417 has been calculated\n",
      "Bin 246557417 has been calculated\n",
      "Bin 376557417 has been calculated\n",
      "Bin 372557417 has been calculated\n",
      "Bin 302557417 has been calculated\n",
      "Bin 386557417 has been calculated\n",
      "Bin 378557417 has been calculated\n",
      "Bin 362557417 has been calculated\n",
      "Bin 400557417 has been calculated\n",
      "Bin 374557417 has been calculated\n",
      "Bin 388557417 has been calculated\n",
      "Bin 408557417 has been calculated\n",
      "Bin 380557417 has been calculated\n",
      "Bin 364557417 has been calculated\n",
      "Bin 390557417 has been calculated\n",
      "Bin 402557417 has been calculated\n",
      "Bin 410557417 has been calculated\n",
      "Bin 416557417 has been calculated\n",
      "Bin 382557417 has been calculated\n",
      "Bin 366557417 has been calculated\n",
      "Bin 424557417 has been calculated\n",
      "Bin 412557417 has been calculated\n",
      "Bin 404557417 has been calculated\n",
      "Bin 418557417 has been calculated\n",
      "Bin 394557417 has been calculated\n",
      "Bin 432557417 has been calculated\n",
      "Bin 440557417 has been calculated\n",
      "Bin 406557417 has been calculated\n",
      "Bin 414557417 has been calculated\n",
      "Bin 396557417 has been calculated\n",
      "Bin 420557417 has been calculated\n",
      "Bin 442557417 has been calculated\n",
      "Bin 448557417 has been calculated\n",
      "Bin 422557417 has been calculated\n",
      "Bin 456557417 has been calculated\n",
      "Bin 398557417 has been calculated\n",
      "Bin 444557417 has been calculated\n",
      "Bin 450557417 has been calculated\n",
      "Bin 464557417 has been calculated\n",
      "Bin 452557417 has been calculated\n",
      "Bin 466557417 has been calculated\n",
      "Bin 434557417 has been calculated\n",
      "Bin 446557417 has been calculated\n",
      "Bin 458557417 has been calculated\n",
      "Bin 454557417 has been calculated\n",
      "Bin 468557417 has been calculated\n",
      "Bin 460557417 has been calculated\n",
      "Bin 470557417 has been calculated\n",
      "Bin 462557417 has been calculated\n",
      "Bin 426557417 has been calculated\n",
      "Bin 428557417 has been calculated\n",
      "Bin 430557417 has been calculated\n",
      "Bin 352557417 has been calculated\n",
      "Bin 312557417 has been calculated\n",
      "Bin 436557417 has been calculated\n",
      "Bin 320557417 has been calculated\n",
      "Bin 336557417 has been calculated\n",
      "Bin 438557417 has been calculated\n",
      "Bin 354557417 has been calculated\n",
      "Bin 338557417 has been calculated\n",
      "Bin 314557417 has been calculated\n",
      "Bin 356557417 has been calculated\n",
      "Bin 316557417 has been calculated\n",
      "Bin 340557417 has been calculated\n",
      "Bin 342557417 has been calculated\n",
      "Bin 358557417 has been calculated\n",
      "Bin 318557417 has been calculated\n",
      "Bin 304557417 has been calculated\n",
      "Bin 328557417 has been calculated\n",
      "Bin 306557417 has been calculated\n",
      "Bin 330557417 has been calculated\n",
      "Bin 308557417 has been calculated\n",
      "Bin 332557417 has been calculated\n",
      "Bin 334557417 has been calculated\n",
      "Bin 310557417 has been calculated\n"
     ]
    }
   ],
   "source": [
    "os.chdir('/home/b7009348/projects/fermi-data/IGR_J18245_Data')\n",
    "model_name = '4FGL J1824.6-2452'\n",
    "name = 'J18245'            #define parameters specific to source\n",
    "xcoord = 276.135\n",
    "ycoord = -24.8688\n",
    "binsz = 2000000 #size of bins wanted\n",
    "start = 239557417 #start of fermi mission\n",
    "end = 607305605 #final time for data downloaded\n",
    "poolsize = 15\n",
    "\n",
    "mkLightCurve.generateflux(poolsize,name,model_name,xcoord,ycoord,start,end,binsz)"
   ]
  },
  {
   "cell_type": "code",
   "execution_count": null,
   "metadata": {},
   "outputs": [],
   "source": [
    "os.chdir('/home/b7009348/projects/fermi-data/IGR_J18245_Data')\n",
    "mkLightCurve.srcmap('J18245',258557417,2000000)"
   ]
  },
  {
   "cell_type": "code",
   "execution_count": null,
   "metadata": {},
   "outputs": [],
   "source": [
    "mkLightCurve.plotcurve('J18245',2000000)"
   ]
  },
  {
   "cell_type": "markdown",
   "metadata": {},
   "source": [
    "Need to figure out how to run pylikelihood in higher verbosity!"
   ]
  },
  {
   "cell_type": "code",
   "execution_count": null,
   "metadata": {},
   "outputs": [],
   "source": [
    "os.chdir('/home/b7009348/projects/fermi-data/IGR_J18245_Data')\n",
    "\n",
    "mkLightCurve.plotcurve()"
   ]
  },
  {
   "cell_type": "code",
   "execution_count": null,
   "metadata": {},
   "outputs": [],
   "source": [
    "os.chdir('/home/b7009348/projects/fermi-data/IGR_J18245_Data')\n",
    "model_name = '4FGL J1824.6-2452'\n",
    "name = 'J18245'            #define parameters specific to source\n",
    "xcoord = 276.135\n",
    "ycoord = -24.8688\n",
    "binsz = 2000000 #size of bins wanted\n",
    "start = 239557417 #start of fermi mission\n",
    "end = 607305605 #final time for data downloaded\n",
    "\n",
    "mkLightCurve.calcflux(name,258557417,model_name,binsz,chatter=4)"
   ]
  }
 ],
 "metadata": {
  "kernelspec": {
   "display_name": "Python 2",
   "language": "python",
   "name": "python2"
  },
  "language_info": {
   "codemirror_mode": {
    "name": "ipython",
    "version": 2
   },
   "file_extension": ".py",
   "mimetype": "text/x-python",
   "name": "python",
   "nbconvert_exporter": "python",
   "pygments_lexer": "ipython2",
   "version": "2.7.14"
  }
 },
 "nbformat": 4,
 "nbformat_minor": 2
}
