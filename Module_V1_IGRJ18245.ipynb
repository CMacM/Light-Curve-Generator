{
 "cells": [
  {
   "cell_type": "raw",
   "metadata": {},
   "source": [
    "Equatorial coordinates (degrees)\t(276.135,-24.8688)\n",
    "Time range (MET)\t(239557417,607305605)\n",
    "Time range (Gregorian)\t(2008-08-04 15:43:36,2020-03-31 00:00:00)\n",
    "Energy range (MeV)\t(100,500000)\n",
    "Search radius (degrees)\t20"
   ]
  },
  {
   "cell_type": "markdown",
   "metadata": {},
   "source": [
    "NEED TO ADDRESS MULTIPLE SRCMAPS "
   ]
  },
  {
   "cell_type": "code",
   "execution_count": 3,
   "metadata": {},
   "outputs": [],
   "source": [
    "%load_ext autoreload\n",
    "%autoreload 2"
   ]
  },
  {
   "cell_type": "code",
   "execution_count": 1,
   "metadata": {},
   "outputs": [
    {
     "name": "stdout",
     "output_type": "stream",
     "text": [
      "This is make4FGLxml version 01r05.\n",
      "The default diffuse model files and names are for pass 8 and 4FGL and assume you have v11r5p3 of the Fermi Science Tools or higher.\n"
     ]
    }
   ],
   "source": [
    "import os\n",
    "import mkLightCurve"
   ]
  },
  {
   "cell_type": "code",
   "execution_count": null,
   "metadata": {},
   "outputs": [],
   "source": [
    "os.chdir('/home/b7009348/projects/fermi-data/IGR_J18245_Data')\n",
    "!ls *PH*.fits > photons.txt\n",
    "\n",
    "name = 'J18245'\n",
    "templateDir = '/home/b7009348/projects/fermi-data/IGR_J18245_Data'\n",
    "\n",
    "mkLightCurve.generatemodel(name,templateDir)"
   ]
  },
  {
   "cell_type": "code",
   "execution_count": null,
   "metadata": {},
   "outputs": [],
   "source": [
    "os.chdir('/home/b7009348/projects/fermi-data/IGR_J18245_Data')\n",
    "model_name = '4FGL J1824.6-2452'\n",
    "name = 'J18245'            #define parameters specific to source\n",
    "xcoord = 276.135\n",
    "ycoord = -24.8688\n",
    "binsz = 2000000 #size of bins wanted\n",
    "start = 239557417 #start of fermi mission\n",
    "end = 607305605 #final time for data downloaded\n",
    "poolsize = 15\n",
    "\n",
    "mkLightCurve.generateflux(poolsize,name,model_name,xcoord,ycoord,start,end,binsz)"
   ]
  },
  {
   "cell_type": "code",
   "execution_count": null,
   "metadata": {},
   "outputs": [],
   "source": [
    "os.chdir('/home/b7009348/projects/fermi-data/IGR_J18245_Data')\n",
    "mkLightCurve.srcmap('J18245',258557417,2000000)"
   ]
  },
  {
   "cell_type": "code",
   "execution_count": null,
   "metadata": {},
   "outputs": [],
   "source": [
    "mkLightCurve.plotcurve('J18245',2000000)"
   ]
  },
  {
   "cell_type": "markdown",
   "metadata": {},
   "source": [
    "Need to figure out how to run pylikelihood in higher verbosity!"
   ]
  },
  {
   "cell_type": "code",
   "execution_count": null,
   "metadata": {},
   "outputs": [],
   "source": [
    "os.chdir('/home/b7009348/projects/fermi-data/IGR_J18245_Data')\n",
    "\n",
    "mkLightCurve.plotcurve()"
   ]
  },
  {
   "cell_type": "code",
   "execution_count": null,
   "metadata": {},
   "outputs": [],
   "source": [
    "os.chdir('/home/b7009348/projects/fermi-data/IGR_J18245_Data')\n",
    "model_name = '4FGL J1824.6-2452'\n",
    "name = 'J18245'            #define parameters specific to source\n",
    "xcoord = 276.135\n",
    "ycoord = -24.8688\n",
    "binsz = 2000000 #size of bins wanted\n",
    "start = 239557417 #start of fermi mission\n",
    "end = 607305605 #final time for data downloaded\n",
    "\n",
    "mkLightCurve.calcflux(name,258557417,model_name,binsz,chatter=4)"
   ]
  }
 ],
 "metadata": {
  "kernelspec": {
   "display_name": "Python 2",
   "language": "python",
   "name": "python2"
  },
  "language_info": {
   "codemirror_mode": {
    "name": "ipython",
    "version": 2
   },
   "file_extension": ".py",
   "mimetype": "text/x-python",
   "name": "python",
   "nbconvert_exporter": "python",
   "pygments_lexer": "ipython2",
   "version": "2.7.14"
  }
 },
 "nbformat": 4,
 "nbformat_minor": 2
}
