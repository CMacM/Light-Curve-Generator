{
 "cells": [
  {
   "cell_type": "raw",
   "metadata": {},
   "source": [
    "Equatorial coordinates (degrees)\t(186.995,-48.8952)\n",
    "Time range (MET)\t(239557417,607305605)\n",
    "Time range (Gregorian)\t(2008-08-04 15:43:36,2020-03-31 00:00:00)\n",
    "Energy range (MeV)\t(100,500000)\n",
    "Search radius (degrees)\t20"
   ]
  },
  {
   "cell_type": "markdown",
   "metadata": {},
   "source": [
    "NEED TO ADDRESS SKI"
   ]
  },
  {
   "cell_type": "code",
   "execution_count": 1,
   "metadata": {},
   "outputs": [],
   "source": [
    "%load_ext autoreload\n",
    "%autoreload 2"
   ]
  },
  {
   "cell_type": "code",
   "execution_count": 1,
   "metadata": {},
   "outputs": [
    {
     "name": "stdout",
     "output_type": "stream",
     "text": [
      "This is make4FGLxml version 01r05.\n",
      "The default diffuse model files and names are for pass 8 and 4FGL and assume you have v11r5p3 of the Fermi Science Tools or higher.\n"
     ]
    }
   ],
   "source": [
    "import gt_apps as gt\n",
    "import os\n",
    "import sys\n",
    "import re\n",
    "import mkLightCurve\n",
    "import glob\n",
    "from make4FGLxml import *"
   ]
  },
  {
   "cell_type": "code",
   "execution_count": null,
   "metadata": {},
   "outputs": [
    {
     "name": "stdout",
     "output_type": "stream",
     "text": [
      "Bin 273557417 has been calculated\n",
      "Bin 337557417 has been calculated\n",
      "Bin 289557417 has been calculated\n",
      "Bin 241557417 has been calculated\n",
      "Bin 313557417 has been calculated\n",
      "Bin 257557417 has been calculated\n",
      "Bin 353557417 has been calculated\n",
      "Bin 297557417 has been calculated\n",
      "Bin 329557417 has been calculated\n",
      "Bin 345557417 has been calculated\n",
      "Bin 305557417 has been calculated\n",
      "Bin 321557417 has been calculated\n",
      "Bin 277557417 has been calculated\n",
      "Bin 317557417 has been calculated\n",
      "Bin 341557417 has been calculated\n",
      "Bin 293557417 has been calculated\n",
      "Bin 249557417 has been calculated\n",
      "Bin 261557417 has been calculated\n",
      "Bin 357557417 has been calculated\n",
      "Bin 349557417 has been calculated\n",
      "Bin 245557417 has been calculated\n",
      "Bin 301557417 has been calculated\n",
      "Bin 309557417 has been calculated\n",
      "Bin 333557417 has been calculated\n",
      "Bin 325557417 has been calculated\n",
      "Bin 369557417 has been calculated\n",
      "Bin 377557417 has been calculated\n",
      "Bin 253557417 has been calculated\n",
      "Bin 401557417 has been calculated\n",
      "Bin 409557417 has been calculated\n",
      "Bin 417557417 has been calculated\n",
      "Bin 265557417 has been calculated\n",
      "Bin 281557417 has been calculated\n",
      "Bin 385557417 has been calculated\n",
      "Bin 425557417 has been calculated\n",
      "Bin 393557417 has been calculated\n",
      "Bin 441557417 has been calculated\n",
      "Bin 405557417 has been calculated\n",
      "Bin 413557417 has been calculated\n",
      "Bin 421557417 has been calculated\n",
      "Bin 285557417 has been calculated\n",
      "Bin 449557417 has been calculated\n",
      "Bin 389557417 has been calculated\n",
      "Bin 445557417 has been calculated\n",
      "Bin 397557417 has been calculated\n",
      "Bin 429557417 has been calculated\n",
      "Bin 473557417 has been calculated\n",
      "Bin 481557417 has been calculated\n",
      "Bin 465557417 has been calculated\n",
      "Bin 497557417 has been calculated\n",
      "Bin 489557417 has been calculated\n",
      "Bin 505557417 has been calculated\n",
      "Bin 477557417 has been calculated\n",
      "Bin 433557417 has been calculated\n",
      "Bin 521557417 has been calculated\n",
      "Bin 469557417 has been calculated\n",
      "Bin 493557417 has been calculated\n",
      "Bin 485557417 has been calculated\n",
      "Bin 509557417 has been calculated\n",
      "Bin 529557417 has been calculated\n",
      "Bin 437557417 has been calculated\n",
      "Bin 537557417 has been calculated\n",
      "Bin 553557417 has been calculated\n",
      "Bin 269557417 has been calculated\n",
      "Bin 533557417 has been calculated\n",
      "Bin 569557417 has been calculated\n",
      "Bin 545557417 has been calculated\n",
      "Bin 525557417 has been calculated\n",
      "Bin 453557417 has been calculated\n",
      "Bin 557557417 has been calculated\n",
      "Bin 541557417 has been calculated\n",
      "Bin 549557417 has been calculated\n",
      "Bin 561557417 has been calculated\n",
      "Bin 573557417 has been calculated\n",
      "Bin 565557417 has been calculated\n",
      "Bin 501557417 has been calculated\n",
      "Bin 457557417 has been calculated\n",
      "Bin 361557417 has been calculated\n",
      "Bin 461557417 has been calculated\n",
      "Bin 365557417 has been calculated\n",
      "Bin 381557417 has been calculated\n",
      "Bin 513557417 has been calculated\n",
      "Bin 517557417 has been calculated\n",
      "Bin 373557417 has been calculated\n",
      "\n",
      "\n",
      "WARNING: version mismatch between CFITSIO header (v3.43) and linked library (v3.41).\n",
      "WARNING: version mismatch between CFITSIO header (v3.43) and linked library (v3.41).\n",
      "\n",
      "\n",
      "\n",
      "\n",
      "WARNING: version mismatch between CFITSIO header (v3.43) and linked library (v3.41).\n",
      "Caught St13runtime_error at the top level: No GTIs found in input event file(s).\n",
      "Caught St13runtime_error at the top level: No GTIs found in input event file(s).\n",
      "WARNING: version mismatch between CFITSIO header (v3.43) and linked library (v3.41).\n",
      "\n",
      "gtltcube execution failed\n",
      "Caught St13runtime_error at the top level: No GTIs found in input event file(s).\n",
      "gtltcube execution failed\n",
      "\n",
      "Caught St13runtime_error at the top level: No GTIs found in input event file(s).\n",
      "Bin = 585557417\n",
      "Bin = 577557417\n",
      "gtltcube execution failed\n",
      "gtltcube execution failed\n",
      "Bin = 593557417\n",
      "Bin = 601557417\n"
     ]
    }
   ],
   "source": [
    "os.chdir(\"/home/b7009348/projects/fermi-data/XSS_J12270_Data\")\n",
    "\n",
    "model_name = '4FGL J1228.0-4853'\n",
    "name = 'J12270'            #define parameters specific to source\n",
    "xcoord = 186.995\n",
    "ycoord = -48.8952\n",
    "binsz = 4000000 #size of bins wanted\n",
    "start = 239557417 #start of fermi mission\n",
    "end = 607305605 #final time for data downloaded\n",
    "poolsize = 15\n",
    "\n",
    "\n",
    "mkLightCurve.generateflux(poolsize,name,model_name,xcoord,ycoord,start,end,binsz)"
   ]
  },
  {
   "cell_type": "code",
   "execution_count": null,
   "metadata": {},
   "outputs": [],
   "source": [
    "os.chdir(\"/home/b7009348/projects/fermi-data/XSS_J12270_Data\")\n",
    "\n",
    "#!ls *_PH* > photons.txt\n",
    "\n",
    "def generatemodel(name,templateDir):\n",
    "    \n",
    "    gt.filter['evclass'] = 128\n",
    "    gt.filter['evtype'] = 3\n",
    "    gt.filter['rad'] = 20\n",
    "    gt.filter['zmax'] = 90\n",
    "    gt.filter['emin'] = 100\n",
    "    gt.filter['emax'] = 500000\n",
    "    gt.filter['infile'] = '@photons.txt'\n",
    "    gt.filter['outfile'] = name+'_allphotons_filtered.fits'\n",
    "    gt.filter.run()\n",
    "    \n",
    "    gt.maketime['scfile'] = 'spacecraft.fits'\n",
    "    gt.maketime['filter'] = '(DATA_QUAL>0)&&(LAT_CONFIG==1)'\n",
    "    gt.maketime['roicut'] = 'no'\n",
    "    gt.maketime['evfile'] = name+'_allphotons_filtered.fits'\n",
    "    gt.maketime['outfile'] = name+'_allphotons_gti.fits'\n",
    "    gt.maketime.run()\n",
    "\n",
    "\n",
    "    mymodel = srcList('gll_psc_v21.xml',name+'_allphotons_gti.fits',name+'_model.xml')\n",
    "    mymodel.makeModel('gll_iem_v07.fits','gll_iem_v07','iso_P8R3_SOURCE_V2_v1.txt','iso_P8R3_SOURCE_V2_v1',normsOnly=True,radLim=5,\n",
    "                 extDir=templateDir)\n",
    "\n",
    "    with open(name+'_model_clean.xml', 'wt') as f:\n",
    "        f.write(re.sub(r'\\$\\(LATEXTDIR\\)/', \n",
    "                       '', \n",
    "                       open(name+'_model.xml').read()))\n",
    "\n",
    "    return;"
   ]
  },
  {
   "cell_type": "code",
   "execution_count": 2,
   "metadata": {},
   "outputs": [
    {
     "data": {
      "image/png": "[encoded data removed]",
      "text/plain": [
       "<matplotlib.figure.Figure at 0x7f4053281710>"
      ]
     },
     "metadata": {
      "needs_background": "light"
     },
     "output_type": "display_data"
    }
   ],
   "source": [
    "os.chdir(\"/home/b7009348/projects/fermi-data/XSS_J12270_Data\")\n",
    "name = 'J12270'\n",
    "mkLightCurve.plotcurve(name,4000000)"
   ]
  },
  {
   "cell_type": "code",
   "execution_count": 7,
   "metadata": {},
   "outputs": [
    {
     "name": "stdout",
     "output_type": "stream",
     "text": [
      "time -p gtmktime scfile=spacecraft.fits sctable=\"SC_DATA\" filter=\"(DATA_QUAL>0)&&(LAT_CONFIG==1)\" roicut=no evfile=J12270_filtered-576557417-2000000.fits evtable=\"EVENTS\" outfile=\"J12270_gti-576557417-2000000.fits\" apply_filter=yes overwrite=no header_obstimes=yes tstart=0.0 tstop=0.0 gtifile=\"default\" chatter=2 clobber=yes debug=no gui=no mode=\"ql\"\n",
      "\n",
      "WARNING: version mismatch between CFITSIO header (v3.43) and linked library (v3.41).\n",
      "\n",
      "real 21.47\n",
      "user 12.79\n",
      "sys 3.31\n"
     ]
    }
   ],
   "source": [
    "os.chdir(\"/home/b7009348/projects/fermi-data/XSS_J12270_Data\")\n",
    "\n",
    "name = 'J12270'\n",
    "tmid = '576557417'\n",
    "binsz = 2000000\n",
    "\n",
    "mkLightCurve.goodtimeint(name,tmid,binsz)"
   ]
  },
  {
   "cell_type": "code",
   "execution_count": 8,
   "metadata": {},
   "outputs": [
    {
     "name": "stdout",
     "output_type": "stream",
     "text": [
      "time -p gtltcube evfile=\"J12270_gti-576557417-2000000.fits\" evtable=\"EVENTS\" scfile=spacecraft.fits sctable=\"SC_DATA\" outfile=J12270_ltcube-576557417-2000000.fits dcostheta=0.025 binsz=1.0 phibins=0 tmin=0.0 tmax=0.0 file_version=\"1\" zmin=0.0 zmax=90.0 chatter=2 clobber=yes debug=no gui=no mode=\"ql\"\n",
      "\n",
      "WARNING: version mismatch between CFITSIO header (v3.43) and linked library (v3.41).\n",
      "\n",
      "Caught St13runtime_error at the top level: No GTIs found in input event file(s).\n"
     ]
    },
    {
     "ename": "RuntimeError",
     "evalue": "gtltcube execution failed",
     "output_type": "error",
     "traceback": [
      "\u001b[0;31m---------------------------------------------------------------------------\u001b[0m",
      "\u001b[0;31mRuntimeError\u001b[0m                              Traceback (most recent call last)",
      "\u001b[0;32m<ipython-input-8-91438fc7332c>\u001b[0m in \u001b[0;36m<module>\u001b[0;34m()\u001b[0m\n\u001b[0;32m----> 1\u001b[0;31m \u001b[0mmkLightCurve\u001b[0m\u001b[0;34m.\u001b[0m\u001b[0mlivetimecube\u001b[0m\u001b[0;34m(\u001b[0m\u001b[0mname\u001b[0m\u001b[0;34m,\u001b[0m\u001b[0mtmid\u001b[0m\u001b[0;34m,\u001b[0m\u001b[0mbinsz\u001b[0m\u001b[0;34m)\u001b[0m\u001b[0;34m\u001b[0m\u001b[0m\n\u001b[0m",
      "\u001b[0;32mmkLightCurve.py\u001b[0m in \u001b[0;36mlivetimecube\u001b[0;34m(name, tmid, binsz)\u001b[0m\n",
      "\u001b[0;32m/nobackup/b7009348/anaconda2/envs/fermi/lib/python2.7/site-packages/fermitools/GtApp.pyc\u001b[0m in \u001b[0;36mrun\u001b[0;34m(self, print_command, catchError, dry_run, **kwds)\u001b[0m\n\u001b[1;32m     74\u001b[0m                     \u001b[0minput\u001b[0m\u001b[0;34m.\u001b[0m\u001b[0mclose\u001b[0m\u001b[0;34m(\u001b[0m\u001b[0;34m)\u001b[0m\u001b[0;34m\u001b[0m\u001b[0m\n\u001b[1;32m     75\u001b[0m                     \u001b[0moutput\u001b[0m\u001b[0;34m.\u001b[0m\u001b[0mclose\u001b[0m\u001b[0;34m(\u001b[0m\u001b[0;34m)\u001b[0m\u001b[0;34m\u001b[0m\u001b[0m\n\u001b[0;32m---> 76\u001b[0;31m                     \u001b[0;32mraise\u001b[0m \u001b[0mRuntimeError\u001b[0m\u001b[0;34m,\u001b[0m \u001b[0mself\u001b[0m\u001b[0;34m.\u001b[0m\u001b[0mappName\u001b[0m \u001b[0;34m+\u001b[0m \u001b[0;34m\" execution failed\"\u001b[0m\u001b[0;34m\u001b[0m\u001b[0m\n\u001b[0m\u001b[1;32m     77\u001b[0m             \u001b[0minput\u001b[0m\u001b[0;34m.\u001b[0m\u001b[0mclose\u001b[0m\u001b[0;34m(\u001b[0m\u001b[0;34m)\u001b[0m\u001b[0;34m\u001b[0m\u001b[0m\n\u001b[1;32m     78\u001b[0m             \u001b[0moutput\u001b[0m\u001b[0;34m.\u001b[0m\u001b[0mclose\u001b[0m\u001b[0;34m(\u001b[0m\u001b[0;34m)\u001b[0m\u001b[0;34m\u001b[0m\u001b[0m\n",
      "\u001b[0;31mRuntimeError\u001b[0m: gtltcube execution failed"
     ]
    }
   ],
   "source": [
    "mkLightCurve.livetimecube(name,tmid,binsz)"
   ]
  },
  {
   "cell_type": "code",
   "execution_count": 4,
   "metadata": {},
   "outputs": [
    {
     "name": "stdout",
     "output_type": "stream",
     "text": [
      "time -p gtselect infile=@photons.txt outfile=J12270_filtered-581557417-4000000.fits ra=\"INDEF\" dec=\"INDEF\" rad=20.0 tmin=579557417.0 tmax=583557417.0 emin=100.0 emax=500000.0 zmin=0.0 zmax=90.0 evclass=128 evtype=3 convtype=-1 phasemin=0.0 phasemax=1.0 evtable=\"EVENTS\" chatter=2 clobber=yes debug=no gui=no mode=\"ql\"\n"
     ]
    },
    {
     "ename": "KeyboardInterrupt",
     "evalue": "",
     "output_type": "error",
     "traceback": [
      "\u001b[0;31m---------------------------------------------------------------------------\u001b[0m",
      "\u001b[0;31mKeyboardInterrupt\u001b[0m                         Traceback (most recent call last)",
      "\u001b[0;32m<ipython-input-4-781f557050f8>\u001b[0m in \u001b[0;36m<module>\u001b[0;34m()\u001b[0m\n\u001b[1;32m      1\u001b[0m \u001b[0mos\u001b[0m\u001b[0;34m.\u001b[0m\u001b[0mchdir\u001b[0m\u001b[0;34m(\u001b[0m\u001b[0;34m\"/home/b7009348/projects/fermi-data/XSS_J12270_Data\"\u001b[0m\u001b[0;34m)\u001b[0m\u001b[0;34m\u001b[0m\u001b[0m\n\u001b[0;32m----> 2\u001b[0;31m \u001b[0mmkLightCurve\u001b[0m\u001b[0;34m.\u001b[0m\u001b[0mselect\u001b[0m\u001b[0;34m(\u001b[0m\u001b[0;34m'J12270'\u001b[0m\u001b[0;34m,\u001b[0m\u001b[0;36m581557417\u001b[0m\u001b[0;34m,\u001b[0m\u001b[0;36m579557417\u001b[0m\u001b[0;34m,\u001b[0m\u001b[0;36m583557417\u001b[0m\u001b[0;34m,\u001b[0m\u001b[0;36m4000000\u001b[0m\u001b[0;34m,\u001b[0m\u001b[0mchatter\u001b[0m\u001b[0;34m=\u001b[0m\u001b[0;36m2\u001b[0m\u001b[0;34m)\u001b[0m\u001b[0;34m\u001b[0m\u001b[0m\n\u001b[0m",
      "\u001b[0;32m/nobackup/b7009348/fermi-data/XSS_J12270_Data/mkLightCurve.pyc\u001b[0m in \u001b[0;36mselect\u001b[0;34m(name, tmid, tmin, tmax, binsz, chatter)\u001b[0m\n",
      "\u001b[0;32m/nobackup/b7009348/anaconda2/envs/fermi/lib/python2.7/site-packages/fermitools/GtApp.pyc\u001b[0m in \u001b[0;36mrun\u001b[0;34m(self, print_command, catchError, dry_run, **kwds)\u001b[0m\n\u001b[1;32m     68\u001b[0m         \u001b[0;32mif\u001b[0m \u001b[0mcatchError\u001b[0m \u001b[0;32mis\u001b[0m \u001b[0;32mnot\u001b[0m \u001b[0mNone\u001b[0m\u001b[0;34m:\u001b[0m\u001b[0;34m\u001b[0m\u001b[0m\n\u001b[1;32m     69\u001b[0m             \u001b[0minput\u001b[0m\u001b[0;34m,\u001b[0m \u001b[0moutput\u001b[0m \u001b[0;34m=\u001b[0m \u001b[0mself\u001b[0m\u001b[0;34m.\u001b[0m\u001b[0mrunWithOutput\u001b[0m\u001b[0;34m(\u001b[0m\u001b[0mprint_command\u001b[0m\u001b[0;34m)\u001b[0m\u001b[0;34m\u001b[0m\u001b[0m\n\u001b[0;32m---> 70\u001b[0;31m             \u001b[0;32mfor\u001b[0m \u001b[0mline\u001b[0m \u001b[0;32min\u001b[0m \u001b[0moutput\u001b[0m\u001b[0;34m:\u001b[0m\u001b[0;34m\u001b[0m\u001b[0m\n\u001b[0m\u001b[1;32m     71\u001b[0m                 \u001b[0;32mprint\u001b[0m \u001b[0mline\u001b[0m\u001b[0;34m.\u001b[0m\u001b[0mstrip\u001b[0m\u001b[0;34m(\u001b[0m\u001b[0;34m\"\\n\"\u001b[0m\u001b[0;34m)\u001b[0m\u001b[0;34m\u001b[0m\u001b[0m\n\u001b[1;32m     72\u001b[0m                 \u001b[0;32mif\u001b[0m \u001b[0mline\u001b[0m\u001b[0;34m.\u001b[0m\u001b[0mfind\u001b[0m\u001b[0;34m(\u001b[0m\u001b[0mcatchError\u001b[0m\u001b[0;34m)\u001b[0m \u001b[0;34m!=\u001b[0m \u001b[0;34m-\u001b[0m\u001b[0;36m1\u001b[0m\u001b[0;34m:\u001b[0m\u001b[0;34m\u001b[0m\u001b[0m\n",
      "\u001b[0;31mKeyboardInterrupt\u001b[0m: "
     ]
    }
   ],
   "source": [
    "os.chdir(\"/home/b7009348/projects/fermi-data/XSS_J12270_Data\")\n",
    "mkLightCurve.select('J12270',581557417,579557417,583557417,4000000,chatter=2)"
   ]
  }
 ],
 "metadata": {
  "kernelspec": {
   "display_name": "Python 2",
   "language": "python",
   "name": "python2"
  },
  "language_info": {
   "codemirror_mode": {
    "name": "ipython",
    "version": 2
   },
   "file_extension": ".py",
   "mimetype": "text/x-python",
   "name": "python",
   "nbconvert_exporter": "python",
   "pygments_lexer": "ipython2",
   "version": "2.7.14"
  }
 },
 "nbformat": 4,
 "nbformat_minor": 2
}
